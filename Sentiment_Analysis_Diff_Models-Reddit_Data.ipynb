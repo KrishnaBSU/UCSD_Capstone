{
 "cells": [
  {
   "cell_type": "code",
   "execution_count": 1,
   "id": "23391bc1",
   "metadata": {},
   "outputs": [],
   "source": [
    "import warnings\n",
    "warnings.filterwarnings('ignore')\n",
    "\n",
    "import pandas as pd\n",
    "import matplotlib.pyplot as plt\n",
    "import numpy as np\n",
    "import tensorflow as tf\n",
    "from transformers import pipeline"
   ]
  },
  {
   "cell_type": "code",
   "execution_count": 2,
   "id": "1cd0a9ce",
   "metadata": {},
   "outputs": [],
   "source": [
    "#Cleaned File from the Reddit data collection File\n",
    "df = pd.read_pickle('df_reddit_cleaned.pkl')"
   ]
  },
  {
   "cell_type": "code",
   "execution_count": 4,
   "id": "b1df6583",
   "metadata": {},
   "outputs": [
    {
     "name": "stdout",
     "output_type": "stream",
     "text": [
      "<class 'pandas.core.frame.DataFrame'>\n",
      "RangeIndex: 1000 entries, 0 to 999\n",
      "Data columns (total 1 columns):\n",
      " #   Column    Non-Null Count  Dtype \n",
      "---  ------    --------------  ----- \n",
      " 0   comments  1000 non-null   object\n",
      "dtypes: object(1)\n",
      "memory usage: 7.9+ KB\n"
     ]
    }
   ],
   "source": [
    "df.info()"
   ]
  },
  {
   "cell_type": "code",
   "execution_count": 5,
   "id": "1859e7fe",
   "metadata": {},
   "outputs": [],
   "source": [
    "df = df.drop_duplicates()"
   ]
  },
  {
   "cell_type": "code",
   "execution_count": 6,
   "id": "66e3b1db",
   "metadata": {},
   "outputs": [
    {
     "name": "stdout",
     "output_type": "stream",
     "text": [
      "<class 'pandas.core.frame.DataFrame'>\n",
      "Int64Index: 93 entries, 0 to 99\n",
      "Data columns (total 1 columns):\n",
      " #   Column    Non-Null Count  Dtype \n",
      "---  ------    --------------  ----- \n",
      " 0   comments  93 non-null     object\n",
      "dtypes: object(1)\n",
      "memory usage: 1.5+ KB\n"
     ]
    }
   ],
   "source": [
    "df.info()"
   ]
  },
  {
   "cell_type": "code",
   "execution_count": 17,
   "id": "8bcfdc40",
   "metadata": {},
   "outputs": [],
   "source": [
    "#Reducing the size of comments to only 250 characters as the models are restricted to around 256 characters \n",
    "#for input\n",
    "df['comments'] = df['comments'].apply(lambda x:x[:250])"
   ]
  },
  {
   "cell_type": "code",
   "execution_count": 18,
   "id": "3a0d6d2e",
   "metadata": {},
   "outputs": [],
   "source": [
    "Data = df['comments'].to_list()"
   ]
  },
  {
   "cell_type": "code",
   "execution_count": 19,
   "id": "63510702",
   "metadata": {},
   "outputs": [
    {
     "data": {
      "text/plain": [
       "['for me i try to think of it at a very simple fundamental level why do currencies and centralized systems exist what problem needed to be solved at one point people could just trade goods but what if you have cow and want to trade for a chicken a cow ',\n",
       " 'crypto is actually harder to launder than paper money because all of the transactions are recorded and public it is made itself useful for criminal purposes like ransomware because the criminals are either based in a country that does not carewill no',\n",
       " 'one more the world was a changed place the effects of climate change were everywhere from the endless droughts in the midwest to the rising sea levels that threatened coastal cities but in the midst of all this chaos a new technology had emerged bitc',\n",
       " 'nobody has time to fact check all incorrect or misleading information so i will just talk about gov can shut down the internet just like they can shut down gold mines or any other enterprise it does not change the asset they cannot destroy the bitcoi',\n",
       " 'yes bitcoin is programmable money read about utxo codes',\n",
       " 'these are not arguments these are declarations that is how you know you are dealing with a fanatic and ideologue bitcoin is not a stock bitcoin is not a corporation fiat currencies by design always march towards a value of zerothe crackpot economics ',\n",
       " 'ein neues geld höchstwahrscheinlich eine kryptowährung wie bitcoin setzt sich durch und wird zur bevorzugten methodedas wird verhindert durch alle die die bitcoins als investment finanzspekulation kaufen',\n",
       " 'do not listen to them they are scams tryong to trick you out of your money everyone on the internet is like that now however if you wire me in bitcoin i can ensure that these scams never target you again using cyberwarfare and science',\n",
       " 'thank you for your contribution to make bitcoin more scarce']"
      ]
     },
     "execution_count": 19,
     "metadata": {},
     "output_type": "execute_result"
    }
   ],
   "source": [
    "Data[1:10]"
   ]
  },
  {
   "cell_type": "code",
   "execution_count": 20,
   "id": "9f2b5948",
   "metadata": {},
   "outputs": [
    {
     "name": "stderr",
     "output_type": "stream",
     "text": [
      "No model was supplied, defaulted to distilbert-base-uncased-finetuned-sst-2-english and revision af0f99b (https://huggingface.co/distilbert-base-uncased-finetuned-sst-2-english).\n",
      "Using a pipeline without specifying a model name and revision in production is not recommended.\n"
     ]
    },
    {
     "data": {
      "text/plain": [
       "[{'label': 'NEGATIVE', 'score': 0.9829002022743225},\n",
       " {'label': 'NEGATIVE', 'score': 0.9963653087615967},\n",
       " {'label': 'NEGATIVE', 'score': 0.9979150891304016},\n",
       " {'label': 'POSITIVE', 'score': 0.7807169556617737},\n",
       " {'label': 'NEGATIVE', 'score': 0.9995717406272888},\n",
       " {'label': 'NEGATIVE', 'score': 0.9853954911231995},\n",
       " {'label': 'NEGATIVE', 'score': 0.9953818917274475},\n",
       " {'label': 'NEGATIVE', 'score': 0.9863816499710083},\n",
       " {'label': 'NEGATIVE', 'score': 0.9866582751274109},\n",
       " {'label': 'POSITIVE', 'score': 0.9024071097373962},\n",
       " {'label': 'NEGATIVE', 'score': 0.9957551956176758},\n",
       " {'label': 'NEGATIVE', 'score': 0.9983192086219788},\n",
       " {'label': 'NEGATIVE', 'score': 0.9894406199455261},\n",
       " {'label': 'NEGATIVE', 'score': 0.9992349147796631},\n",
       " {'label': 'NEGATIVE', 'score': 0.9994063377380371},\n",
       " {'label': 'NEGATIVE', 'score': 0.9885151982307434},\n",
       " {'label': 'NEGATIVE', 'score': 0.9977388381958008},\n",
       " {'label': 'NEGATIVE', 'score': 0.9594597220420837},\n",
       " {'label': 'POSITIVE', 'score': 0.9995083808898926},\n",
       " {'label': 'NEGATIVE', 'score': 0.9963894486427307},\n",
       " {'label': 'NEGATIVE', 'score': 0.9535857439041138},\n",
       " {'label': 'POSITIVE', 'score': 0.9955827593803406},\n",
       " {'label': 'NEGATIVE', 'score': 0.9986727237701416},\n",
       " {'label': 'NEGATIVE', 'score': 0.99598628282547},\n",
       " {'label': 'NEGATIVE', 'score': 0.8940362334251404},\n",
       " {'label': 'NEGATIVE', 'score': 0.9987910389900208},\n",
       " {'label': 'NEGATIVE', 'score': 0.9983470439910889},\n",
       " {'label': 'NEGATIVE', 'score': 0.9980863332748413},\n",
       " {'label': 'NEGATIVE', 'score': 0.9945343732833862},\n",
       " {'label': 'NEGATIVE', 'score': 0.9989997744560242},\n",
       " {'label': 'NEGATIVE', 'score': 0.9985818862915039},\n",
       " {'label': 'POSITIVE', 'score': 0.9923442006111145},\n",
       " {'label': 'POSITIVE', 'score': 0.9793669581413269},\n",
       " {'label': 'NEGATIVE', 'score': 0.9966899156570435},\n",
       " {'label': 'NEGATIVE', 'score': 0.9958113431930542},\n",
       " {'label': 'NEGATIVE', 'score': 0.9989284873008728},\n",
       " {'label': 'NEGATIVE', 'score': 0.9889829754829407},\n",
       " {'label': 'NEGATIVE', 'score': 0.9993964433670044},\n",
       " {'label': 'NEGATIVE', 'score': 0.9988709092140198},\n",
       " {'label': 'NEGATIVE', 'score': 0.9971302151679993},\n",
       " {'label': 'NEGATIVE', 'score': 0.9779878854751587},\n",
       " {'label': 'NEGATIVE', 'score': 0.9665467739105225},\n",
       " {'label': 'POSITIVE', 'score': 0.9625522494316101},\n",
       " {'label': 'NEGATIVE', 'score': 0.9986088871955872},\n",
       " {'label': 'NEGATIVE', 'score': 0.989852249622345},\n",
       " {'label': 'NEGATIVE', 'score': 0.9866122007369995},\n",
       " {'label': 'NEGATIVE', 'score': 0.9883931279182434},\n",
       " {'label': 'NEGATIVE', 'score': 0.8619346022605896},\n",
       " {'label': 'NEGATIVE', 'score': 0.9965255856513977},\n",
       " {'label': 'POSITIVE', 'score': 0.9910202622413635},\n",
       " {'label': 'NEGATIVE', 'score': 0.9626045823097229},\n",
       " {'label': 'NEGATIVE', 'score': 0.9991868138313293},\n",
       " {'label': 'NEGATIVE', 'score': 0.9474806189537048},\n",
       " {'label': 'NEGATIVE', 'score': 0.999093770980835},\n",
       " {'label': 'NEGATIVE', 'score': 0.8941492438316345},\n",
       " {'label': 'NEGATIVE', 'score': 0.9990605711936951},\n",
       " {'label': 'NEGATIVE', 'score': 0.993191659450531},\n",
       " {'label': 'NEGATIVE', 'score': 0.9995658993721008},\n",
       " {'label': 'NEGATIVE', 'score': 0.9474806189537048},\n",
       " {'label': 'NEGATIVE', 'score': 0.9989822506904602},\n",
       " {'label': 'NEGATIVE', 'score': 0.9996559619903564},\n",
       " {'label': 'NEGATIVE', 'score': 0.9968441724777222},\n",
       " {'label': 'NEGATIVE', 'score': 0.9997865557670593},\n",
       " {'label': 'NEGATIVE', 'score': 0.9987993240356445},\n",
       " {'label': 'NEGATIVE', 'score': 0.9992477893829346},\n",
       " {'label': 'NEGATIVE', 'score': 0.9933791160583496},\n",
       " {'label': 'NEGATIVE', 'score': 0.9551557898521423},\n",
       " {'label': 'NEGATIVE', 'score': 0.9997290968894958},\n",
       " {'label': 'NEGATIVE', 'score': 0.9971047043800354},\n",
       " {'label': 'NEGATIVE', 'score': 0.9977225661277771},\n",
       " {'label': 'NEGATIVE', 'score': 0.984038233757019},\n",
       " {'label': 'POSITIVE', 'score': 0.9991188645362854},\n",
       " {'label': 'NEGATIVE', 'score': 0.9093088507652283},\n",
       " {'label': 'NEGATIVE', 'score': 0.5679266452789307},\n",
       " {'label': 'POSITIVE', 'score': 0.5757041573524475},\n",
       " {'label': 'POSITIVE', 'score': 0.9997404217720032},\n",
       " {'label': 'NEGATIVE', 'score': 0.9952215552330017},\n",
       " {'label': 'NEGATIVE', 'score': 0.9912983775138855},\n",
       " {'label': 'NEGATIVE', 'score': 0.9995706677436829},\n",
       " {'label': 'NEGATIVE', 'score': 0.9757866859436035},\n",
       " {'label': 'NEGATIVE', 'score': 0.9967472553253174},\n",
       " {'label': 'NEGATIVE', 'score': 0.8930952548980713},\n",
       " {'label': 'NEGATIVE', 'score': 0.9965726137161255},\n",
       " {'label': 'NEGATIVE', 'score': 0.991738498210907},\n",
       " {'label': 'NEGATIVE', 'score': 0.9997530579566956},\n",
       " {'label': 'NEGATIVE', 'score': 0.9985526204109192},\n",
       " {'label': 'NEGATIVE', 'score': 0.9995778203010559},\n",
       " {'label': 'NEGATIVE', 'score': 0.508709728717804},\n",
       " {'label': 'NEGATIVE', 'score': 0.99937504529953},\n",
       " {'label': 'NEGATIVE', 'score': 0.9026157855987549},\n",
       " {'label': 'NEGATIVE', 'score': 0.9042831659317017},\n",
       " {'label': 'NEGATIVE', 'score': 0.9900571703910828},\n",
       " {'label': 'NEGATIVE', 'score': 0.9964798092842102}]"
      ]
     },
     "execution_count": 20,
     "metadata": {},
     "output_type": "execute_result"
    }
   ],
   "source": [
    "#Using Default Model from Transformers(distilbert-base-uncasesd)\n",
    "sentiment_pipeline = pipeline(\"sentiment-analysis\")\n",
    "sentiment_pipeline(Data)"
   ]
  },
  {
   "cell_type": "code",
   "execution_count": 23,
   "id": "45f2bb73",
   "metadata": {},
   "outputs": [],
   "source": [
    "#Reducing the comment size to 64 to be able to work with the berttweet model.\n",
    "df['comments'] = df['comments'].apply(lambda x:x[:64])\n",
    "Data2 = df['comments'].to_list()"
   ]
  },
  {
   "cell_type": "code",
   "execution_count": 24,
   "id": "6a934223",
   "metadata": {},
   "outputs": [
    {
     "name": "stderr",
     "output_type": "stream",
     "text": [
      "emoji is not installed, thus not converting emoticons or emojis into text. Install emoji: pip3 install emoji==0.6.0\n"
     ]
    },
    {
     "data": {
      "text/plain": [
       "[{'label': 'NEU', 'score': 0.9797791242599487},\n",
       " {'label': 'NEU', 'score': 0.9167025089263916},\n",
       " {'label': 'NEG', 'score': 0.7816319465637207},\n",
       " {'label': 'NEU', 'score': 0.9501328468322754},\n",
       " {'label': 'NEG', 'score': 0.9398619532585144},\n",
       " {'label': 'NEU', 'score': 0.919883668422699},\n",
       " {'label': 'NEU', 'score': 0.9793980717658997},\n",
       " {'label': 'NEU', 'score': 0.9410568475723267},\n",
       " {'label': 'NEG', 'score': 0.9632286429405212},\n",
       " {'label': 'POS', 'score': 0.8840638995170593},\n",
       " {'label': 'NEG', 'score': 0.9572646617889404},\n",
       " {'label': 'NEU', 'score': 0.6719188690185547},\n",
       " {'label': 'NEU', 'score': 0.9320522546768188},\n",
       " {'label': 'NEU', 'score': 0.7747042775154114},\n",
       " {'label': 'NEG', 'score': 0.5834870934486389},\n",
       " {'label': 'NEU', 'score': 0.810034453868866},\n",
       " {'label': 'NEG', 'score': 0.8714921474456787},\n",
       " {'label': 'NEU', 'score': 0.8571383953094482},\n",
       " {'label': 'POS', 'score': 0.9457829594612122},\n",
       " {'label': 'NEG', 'score': 0.962552547454834},\n",
       " {'label': 'NEU', 'score': 0.9595822691917419},\n",
       " {'label': 'NEU', 'score': 0.947253406047821},\n",
       " {'label': 'NEU', 'score': 0.9131141304969788},\n",
       " {'label': 'NEU', 'score': 0.9224173426628113},\n",
       " {'label': 'NEU', 'score': 0.6398724913597107},\n",
       " {'label': 'NEU', 'score': 0.7342569828033447},\n",
       " {'label': 'NEU', 'score': 0.6629588007926941},\n",
       " {'label': 'NEG', 'score': 0.603609561920166},\n",
       " {'label': 'NEU', 'score': 0.8031331896781921},\n",
       " {'label': 'NEG', 'score': 0.6276410818099976},\n",
       " {'label': 'NEU', 'score': 0.963696300983429},\n",
       " {'label': 'NEU', 'score': 0.5213350057601929},\n",
       " {'label': 'NEU', 'score': 0.9148134589195251},\n",
       " {'label': 'NEU', 'score': 0.746393620967865},\n",
       " {'label': 'NEU', 'score': 0.8812843561172485},\n",
       " {'label': 'NEU', 'score': 0.7170929908752441},\n",
       " {'label': 'NEU', 'score': 0.9690393209457397},\n",
       " {'label': 'NEG', 'score': 0.8413981795310974},\n",
       " {'label': 'NEU', 'score': 0.9228006601333618},\n",
       " {'label': 'NEG', 'score': 0.7582279443740845},\n",
       " {'label': 'NEG', 'score': 0.9048448204994202},\n",
       " {'label': 'NEU', 'score': 0.9572929739952087},\n",
       " {'label': 'NEU', 'score': 0.9577772617340088},\n",
       " {'label': 'NEU', 'score': 0.9581359624862671},\n",
       " {'label': 'NEU', 'score': 0.5312051773071289},\n",
       " {'label': 'NEU', 'score': 0.9720712304115295},\n",
       " {'label': 'NEU', 'score': 0.9713528156280518},\n",
       " {'label': 'POS', 'score': 0.6784970164299011},\n",
       " {'label': 'NEU', 'score': 0.9507201313972473},\n",
       " {'label': 'NEU', 'score': 0.9674926400184631},\n",
       " {'label': 'NEU', 'score': 0.8650986552238464},\n",
       " {'label': 'NEU', 'score': 0.9442929029464722},\n",
       " {'label': 'NEU', 'score': 0.6245154738426208},\n",
       " {'label': 'NEU', 'score': 0.8607715964317322},\n",
       " {'label': 'NEU', 'score': 0.5528973937034607},\n",
       " {'label': 'NEU', 'score': 0.9798622727394104},\n",
       " {'label': 'NEU', 'score': 0.9807772040367126},\n",
       " {'label': 'NEG', 'score': 0.9015709161758423},\n",
       " {'label': 'NEU', 'score': 0.6245154738426208},\n",
       " {'label': 'NEU', 'score': 0.9435349702835083},\n",
       " {'label': 'NEU', 'score': 0.9540649056434631},\n",
       " {'label': 'NEU', 'score': 0.9003164768218994},\n",
       " {'label': 'NEG', 'score': 0.6456570625305176},\n",
       " {'label': 'POS', 'score': 0.7101519703865051},\n",
       " {'label': 'NEU', 'score': 0.7249104380607605},\n",
       " {'label': 'NEU', 'score': 0.9452066421508789},\n",
       " {'label': 'NEU', 'score': 0.864561915397644},\n",
       " {'label': 'NEU', 'score': 0.9402911067008972},\n",
       " {'label': 'NEU', 'score': 0.9642351865768433},\n",
       " {'label': 'NEU', 'score': 0.6268961429595947},\n",
       " {'label': 'NEU', 'score': 0.9777305126190186},\n",
       " {'label': 'POS', 'score': 0.9878464341163635},\n",
       " {'label': 'NEG', 'score': 0.8714048266410828},\n",
       " {'label': 'NEU', 'score': 0.6060842871665955},\n",
       " {'label': 'NEU', 'score': 0.8790221810340881},\n",
       " {'label': 'POS', 'score': 0.9913170337677002},\n",
       " {'label': 'NEU', 'score': 0.7534866333007812},\n",
       " {'label': 'NEU', 'score': 0.9454833269119263},\n",
       " {'label': 'NEU', 'score': 0.809324324131012},\n",
       " {'label': 'NEU', 'score': 0.7648279070854187},\n",
       " {'label': 'NEU', 'score': 0.9147552847862244},\n",
       " {'label': 'NEU', 'score': 0.971120297908783},\n",
       " {'label': 'NEU', 'score': 0.9789767265319824},\n",
       " {'label': 'NEG', 'score': 0.523828387260437},\n",
       " {'label': 'NEU', 'score': 0.8120021224021912},\n",
       " {'label': 'NEU', 'score': 0.9665884971618652},\n",
       " {'label': 'NEU', 'score': 0.6827068328857422},\n",
       " {'label': 'NEU', 'score': 0.9219326376914978},\n",
       " {'label': 'NEU', 'score': 0.6937041282653809},\n",
       " {'label': 'NEU', 'score': 0.9413403868675232},\n",
       " {'label': 'NEG', 'score': 0.9602618217468262},\n",
       " {'label': 'NEU', 'score': 0.9618726968765259},\n",
       " {'label': 'NEG', 'score': 0.7224881052970886}]"
      ]
     },
     "execution_count": 24,
     "metadata": {},
     "output_type": "execute_result"
    }
   ],
   "source": [
    "#Using berttweet Model from Transformers which was trained on twitter data\n",
    "model2 = pipeline(model=\"finiteautomata/bertweet-base-sentiment-analysis\")\n",
    "model2(Data2)"
   ]
  },
  {
   "cell_type": "code",
   "execution_count": 22,
   "id": "3b86290e",
   "metadata": {},
   "outputs": [
    {
     "name": "stderr",
     "output_type": "stream",
     "text": [
      "Some weights of the model checkpoint at roberta-large-mnli were not used when initializing RobertaForSequenceClassification: ['roberta.pooler.dense.weight', 'roberta.pooler.dense.bias']\n",
      "- This IS expected if you are initializing RobertaForSequenceClassification from the checkpoint of a model trained on another task or with another architecture (e.g. initializing a BertForSequenceClassification model from a BertForPreTraining model).\n",
      "- This IS NOT expected if you are initializing RobertaForSequenceClassification from the checkpoint of a model that you expect to be exactly identical (initializing a BertForSequenceClassification model from a BertForSequenceClassification model).\n"
     ]
    },
    {
     "data": {
      "text/plain": [
       "[{'label': 'CONTRADICTION', 'score': 0.5425612330436707},\n",
       " {'label': 'NEUTRAL', 'score': 0.6877266764640808},\n",
       " {'label': 'NEUTRAL', 'score': 0.7620202898979187},\n",
       " {'label': 'NEUTRAL', 'score': 0.9658099412918091},\n",
       " {'label': 'NEUTRAL', 'score': 0.8688977360725403},\n",
       " {'label': 'NEUTRAL', 'score': 0.6635711193084717},\n",
       " {'label': 'NEUTRAL', 'score': 0.6886267066001892},\n",
       " {'label': 'NEUTRAL', 'score': 0.6029835343360901},\n",
       " {'label': 'NEUTRAL', 'score': 0.9607135653495789},\n",
       " {'label': 'NEUTRAL', 'score': 0.660656750202179},\n",
       " {'label': 'NEUTRAL', 'score': 0.9216315150260925},\n",
       " {'label': 'NEUTRAL', 'score': 0.8821895122528076},\n",
       " {'label': 'NEUTRAL', 'score': 0.5924975872039795},\n",
       " {'label': 'NEUTRAL', 'score': 0.9567058086395264},\n",
       " {'label': 'ENTAILMENT', 'score': 0.5282959938049316},\n",
       " {'label': 'ENTAILMENT', 'score': 0.4489707052707672},\n",
       " {'label': 'NEUTRAL', 'score': 0.6935535073280334},\n",
       " {'label': 'NEUTRAL', 'score': 0.6955918073654175},\n",
       " {'label': 'NEUTRAL', 'score': 0.5245481133460999},\n",
       " {'label': 'CONTRADICTION', 'score': 0.49690529704093933},\n",
       " {'label': 'NEUTRAL', 'score': 0.9778478741645813},\n",
       " {'label': 'NEUTRAL', 'score': 0.9292631149291992},\n",
       " {'label': 'NEUTRAL', 'score': 0.6578092575073242},\n",
       " {'label': 'NEUTRAL', 'score': 0.7436281442642212},\n",
       " {'label': 'NEUTRAL', 'score': 0.7362739443778992},\n",
       " {'label': 'NEUTRAL', 'score': 0.7199523448944092},\n",
       " {'label': 'NEUTRAL', 'score': 0.7116213440895081},\n",
       " {'label': 'NEUTRAL', 'score': 0.5779008865356445},\n",
       " {'label': 'NEUTRAL', 'score': 0.6224812865257263},\n",
       " {'label': 'NEUTRAL', 'score': 0.6694726347923279},\n",
       " {'label': 'NEUTRAL', 'score': 0.640612781047821},\n",
       " {'label': 'NEUTRAL', 'score': 0.9495749473571777},\n",
       " {'label': 'NEUTRAL', 'score': 0.9869323372840881},\n",
       " {'label': 'NEUTRAL', 'score': 0.820544421672821},\n",
       " {'label': 'CONTRADICTION', 'score': 0.6390358209609985},\n",
       " {'label': 'NEUTRAL', 'score': 0.8926790952682495},\n",
       " {'label': 'NEUTRAL', 'score': 0.9655311703681946},\n",
       " {'label': 'NEUTRAL', 'score': 0.9597641229629517},\n",
       " {'label': 'NEUTRAL', 'score': 0.8146914839744568},\n",
       " {'label': 'CONTRADICTION', 'score': 0.7215394973754883},\n",
       " {'label': 'CONTRADICTION', 'score': 0.8086365461349487},\n",
       " {'label': 'NEUTRAL', 'score': 0.8946748971939087},\n",
       " {'label': 'NEUTRAL', 'score': 0.8563178777694702},\n",
       " {'label': 'NEUTRAL', 'score': 0.5577073693275452},\n",
       " {'label': 'NEUTRAL', 'score': 0.8266683220863342},\n",
       " {'label': 'NEUTRAL', 'score': 0.5110176801681519},\n",
       " {'label': 'NEUTRAL', 'score': 0.526822566986084},\n",
       " {'label': 'CONTRADICTION', 'score': 0.6406537294387817},\n",
       " {'label': 'NEUTRAL', 'score': 0.7162066102027893},\n",
       " {'label': 'NEUTRAL', 'score': 0.9745444655418396},\n",
       " {'label': 'NEUTRAL', 'score': 0.7611033320426941},\n",
       " {'label': 'NEUTRAL', 'score': 0.9544128775596619},\n",
       " {'label': 'NEUTRAL', 'score': 0.4977704584598541},\n",
       " {'label': 'NEUTRAL', 'score': 0.9732747077941895},\n",
       " {'label': 'CONTRADICTION', 'score': 0.638165295124054},\n",
       " {'label': 'NEUTRAL', 'score': 0.5276613235473633},\n",
       " {'label': 'NEUTRAL', 'score': 0.9780706763267517},\n",
       " {'label': 'CONTRADICTION', 'score': 0.8844918012619019},\n",
       " {'label': 'NEUTRAL', 'score': 0.4977704584598541},\n",
       " {'label': 'NEUTRAL', 'score': 0.9808036684989929},\n",
       " {'label': 'NEUTRAL', 'score': 0.8493125438690186},\n",
       " {'label': 'ENTAILMENT', 'score': 0.49576395750045776},\n",
       " {'label': 'NEUTRAL', 'score': 0.7427945733070374},\n",
       " {'label': 'NEUTRAL', 'score': 0.613638162612915},\n",
       " {'label': 'CONTRADICTION', 'score': 0.5795743465423584},\n",
       " {'label': 'NEUTRAL', 'score': 0.9504023194313049},\n",
       " {'label': 'ENTAILMENT', 'score': 0.5984981656074524},\n",
       " {'label': 'NEUTRAL', 'score': 0.7637966871261597},\n",
       " {'label': 'CONTRADICTION', 'score': 0.686367392539978},\n",
       " {'label': 'NEUTRAL', 'score': 0.7135332226753235},\n",
       " {'label': 'CONTRADICTION', 'score': 0.9052278399467468},\n",
       " {'label': 'NEUTRAL', 'score': 0.5726613402366638},\n",
       " {'label': 'NEUTRAL', 'score': 0.6332202553749084},\n",
       " {'label': 'NEUTRAL', 'score': 0.6836562752723694},\n",
       " {'label': 'NEUTRAL', 'score': 0.8278663754463196},\n",
       " {'label': 'NEUTRAL', 'score': 0.46461689472198486},\n",
       " {'label': 'NEUTRAL', 'score': 0.8090294599533081},\n",
       " {'label': 'NEUTRAL', 'score': 0.6843953728675842},\n",
       " {'label': 'NEUTRAL', 'score': 0.6184923648834229},\n",
       " {'label': 'NEUTRAL', 'score': 0.8187335729598999},\n",
       " {'label': 'CONTRADICTION', 'score': 0.6049522757530212},\n",
       " {'label': 'NEUTRAL', 'score': 0.5738652348518372},\n",
       " {'label': 'CONTRADICTION', 'score': 0.7860872745513916},\n",
       " {'label': 'NEUTRAL', 'score': 0.6713314652442932},\n",
       " {'label': 'NEUTRAL', 'score': 0.6101690530776978},\n",
       " {'label': 'CONTRADICTION', 'score': 0.9591876268386841},\n",
       " {'label': 'NEUTRAL', 'score': 0.765592098236084},\n",
       " {'label': 'NEUTRAL', 'score': 0.5445407629013062},\n",
       " {'label': 'NEUTRAL', 'score': 0.7107244729995728},\n",
       " {'label': 'ENTAILMENT', 'score': 0.4526331126689911},\n",
       " {'label': 'NEUTRAL', 'score': 0.5813190937042236},\n",
       " {'label': 'NEUTRAL', 'score': 0.9405496120452881},\n",
       " {'label': 'NEUTRAL', 'score': 0.9560772180557251}]"
      ]
     },
     "execution_count": 22,
     "metadata": {},
     "output_type": "execute_result"
    }
   ],
   "source": [
    "#Using Reoberta Model from Transformers \n",
    "model2 = pipeline(model=\"roberta-large-mnli\")\n",
    "model2(Data)"
   ]
  },
  {
   "cell_type": "code",
   "execution_count": null,
   "id": "7b038655",
   "metadata": {},
   "outputs": [],
   "source": []
  }
 ],
 "metadata": {
  "kernelspec": {
   "display_name": "Python 3",
   "language": "python",
   "name": "python3"
  },
  "language_info": {
   "codemirror_mode": {
    "name": "ipython",
    "version": 3
   },
   "file_extension": ".py",
   "mimetype": "text/x-python",
   "name": "python",
   "nbconvert_exporter": "python",
   "pygments_lexer": "ipython3",
   "version": "3.8.8"
  }
 },
 "nbformat": 4,
 "nbformat_minor": 5
}
