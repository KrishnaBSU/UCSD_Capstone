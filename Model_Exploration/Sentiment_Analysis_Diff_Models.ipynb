{
 "cells": [
  {
   "cell_type": "code",
   "execution_count": 5,
   "id": "23391bc1",
   "metadata": {},
   "outputs": [],
   "source": [
    "import warnings\n",
    "warnings.filterwarnings('ignore')\n",
    "\n",
    "import pandas as pd\n",
    "import matplotlib.pyplot as plt\n",
    "import numpy as np\n",
    "import tensorflow as tf\n",
    "from transformers import pipeline"
   ]
  },
  {
   "cell_type": "code",
   "execution_count": 4,
   "id": "31e4caa3",
   "metadata": {},
   "outputs": [],
   "source": [
    "#Sample data from Reddit for Bitcoin\n",
    "Data = [ \"Lightning Thursday! January 05, 2023: Explore the Lightning Network!\", \n",
    "        \"Found this in the register at my job Viva la Revolucion \",\n",
    "        \"Bitcoin is feeling like Linux\",\n",
    "        \"Bitcoin is the natural reaction against the scam of central banking.\",\n",
    "        \"Bitcoin is still the most popular cryptocurrency for payment\",\n",
    "        \"Two Bitcoin fixes this events that happened to us today in Cambodia upon arrival... \",\n",
    "        \"Hidden taxation\",\n",
    "        \"Fidelity says that bitcoin is unique and should be considered first and separate from all other digital assets.\"]"
   ]
  },
  {
   "cell_type": "code",
   "execution_count": 7,
   "id": "9f2b5948",
   "metadata": {},
   "outputs": [
    {
     "name": "stderr",
     "output_type": "stream",
     "text": [
      "No model was supplied, defaulted to distilbert-base-uncased-finetuned-sst-2-english and revision af0f99b (https://huggingface.co/distilbert-base-uncased-finetuned-sst-2-english).\n",
      "Using a pipeline without specifying a model name and revision in production is not recommended.\n"
     ]
    },
    {
     "data": {
      "text/plain": [
       "[{'label': 'POSITIVE', 'score': 0.9990769624710083},\n",
       " {'label': 'NEGATIVE', 'score': 0.9696661233901978},\n",
       " {'label': 'NEGATIVE', 'score': 0.9992679953575134},\n",
       " {'label': 'NEGATIVE', 'score': 0.9393824338912964},\n",
       " {'label': 'POSITIVE', 'score': 0.997707724571228},\n",
       " {'label': 'NEGATIVE', 'score': 0.9959039092063904},\n",
       " {'label': 'NEGATIVE', 'score': 0.9245154857635498},\n",
       " {'label': 'POSITIVE', 'score': 0.9991920590400696}]"
      ]
     },
     "execution_count": 7,
     "metadata": {},
     "output_type": "execute_result"
    }
   ],
   "source": [
    "#Using Default Model from Transformers(distilbert-base-uncasesd)\n",
    "sentiment_pipeline = pipeline(\"sentiment-analysis\")\n",
    "sentiment_pipeline(Data)"
   ]
  },
  {
   "cell_type": "code",
   "execution_count": 8,
   "id": "6a934223",
   "metadata": {},
   "outputs": [
    {
     "data": {
      "application/vnd.jupyter.widget-view+json": {
       "model_id": "226bdd8aa08b4868a5315479369d5f8e",
       "version_major": 2,
       "version_minor": 0
      },
      "text/plain": [
       "Downloading:   0%|          | 0.00/890 [00:00<?, ?B/s]"
      ]
     },
     "metadata": {},
     "output_type": "display_data"
    },
    {
     "data": {
      "application/vnd.jupyter.widget-view+json": {
       "model_id": "b97d6c85a7844986988dac0f3e5fb120",
       "version_major": 2,
       "version_minor": 0
      },
      "text/plain": [
       "Downloading:   0%|          | 0.00/540M [00:00<?, ?B/s]"
      ]
     },
     "metadata": {},
     "output_type": "display_data"
    },
    {
     "data": {
      "application/vnd.jupyter.widget-view+json": {
       "model_id": "0b3e3c82a8b043e68b0351a7edfe573b",
       "version_major": 2,
       "version_minor": 0
      },
      "text/plain": [
       "Downloading:   0%|          | 0.00/295 [00:00<?, ?B/s]"
      ]
     },
     "metadata": {},
     "output_type": "display_data"
    },
    {
     "data": {
      "application/vnd.jupyter.widget-view+json": {
       "model_id": "c1cd863edd2843c68796f819dd39f1e7",
       "version_major": 2,
       "version_minor": 0
      },
      "text/plain": [
       "Downloading:   0%|          | 0.00/843k [00:00<?, ?B/s]"
      ]
     },
     "metadata": {},
     "output_type": "display_data"
    },
    {
     "data": {
      "application/vnd.jupyter.widget-view+json": {
       "model_id": "cb858f3d972e42c0b7270f86db603a3f",
       "version_major": 2,
       "version_minor": 0
      },
      "text/plain": [
       "Downloading:   0%|          | 0.00/1.08M [00:00<?, ?B/s]"
      ]
     },
     "metadata": {},
     "output_type": "display_data"
    },
    {
     "data": {
      "application/vnd.jupyter.widget-view+json": {
       "model_id": "c6989db49e074e85ba63b772e7e31c2b",
       "version_major": 2,
       "version_minor": 0
      },
      "text/plain": [
       "Downloading:   0%|          | 0.00/17.0 [00:00<?, ?B/s]"
      ]
     },
     "metadata": {},
     "output_type": "display_data"
    },
    {
     "data": {
      "application/vnd.jupyter.widget-view+json": {
       "model_id": "6b4cc4f65a4141eaa04b67d132ff47de",
       "version_major": 2,
       "version_minor": 0
      },
      "text/plain": [
       "Downloading:   0%|          | 0.00/150 [00:00<?, ?B/s]"
      ]
     },
     "metadata": {},
     "output_type": "display_data"
    },
    {
     "name": "stderr",
     "output_type": "stream",
     "text": [
      "emoji is not installed, thus not converting emoticons or emojis into text. Install emoji: pip3 install emoji==0.6.0\n"
     ]
    },
    {
     "data": {
      "text/plain": [
       "[{'label': 'POS', 'score': 0.6329282522201538},\n",
       " {'label': 'NEU', 'score': 0.9366106390953064},\n",
       " {'label': 'NEU', 'score': 0.7773475050926208},\n",
       " {'label': 'NEU', 'score': 0.8258515000343323},\n",
       " {'label': 'POS', 'score': 0.7605777382850647},\n",
       " {'label': 'NEU', 'score': 0.8344175219535828},\n",
       " {'label': 'NEU', 'score': 0.6819217801094055},\n",
       " {'label': 'NEU', 'score': 0.5283895134925842}]"
      ]
     },
     "execution_count": 8,
     "metadata": {},
     "output_type": "execute_result"
    }
   ],
   "source": [
    "#Using berttweet Model from Transformers which was trained on twitter data\n",
    "model2 = pipeline(model=\"finiteautomata/bertweet-base-sentiment-analysis\")\n",
    "model2(Data)"
   ]
  },
  {
   "cell_type": "code",
   "execution_count": 10,
   "id": "3b86290e",
   "metadata": {},
   "outputs": [
    {
     "data": {
      "application/vnd.jupyter.widget-view+json": {
       "model_id": "d39c4821fe2848148010f102c045e3a7",
       "version_major": 2,
       "version_minor": 0
      },
      "text/plain": [
       "Downloading:   0%|          | 0.00/688 [00:00<?, ?B/s]"
      ]
     },
     "metadata": {},
     "output_type": "display_data"
    },
    {
     "data": {
      "application/vnd.jupyter.widget-view+json": {
       "model_id": "09b4f1cbfeb8408692edf5f7b431e618",
       "version_major": 2,
       "version_minor": 0
      },
      "text/plain": [
       "Downloading:   0%|          | 0.00/1.43G [00:00<?, ?B/s]"
      ]
     },
     "metadata": {},
     "output_type": "display_data"
    },
    {
     "name": "stderr",
     "output_type": "stream",
     "text": [
      "Some weights of the model checkpoint at roberta-large-mnli were not used when initializing RobertaForSequenceClassification: ['roberta.pooler.dense.weight', 'roberta.pooler.dense.bias']\n",
      "- This IS expected if you are initializing RobertaForSequenceClassification from the checkpoint of a model trained on another task or with another architecture (e.g. initializing a BertForSequenceClassification model from a BertForPreTraining model).\n",
      "- This IS NOT expected if you are initializing RobertaForSequenceClassification from the checkpoint of a model that you expect to be exactly identical (initializing a BertForSequenceClassification model from a BertForSequenceClassification model).\n"
     ]
    },
    {
     "data": {
      "application/vnd.jupyter.widget-view+json": {
       "model_id": "923e93cf97d94567ab0605946ff77e0b",
       "version_major": 2,
       "version_minor": 0
      },
      "text/plain": [
       "Downloading:   0%|          | 0.00/899k [00:00<?, ?B/s]"
      ]
     },
     "metadata": {},
     "output_type": "display_data"
    },
    {
     "data": {
      "application/vnd.jupyter.widget-view+json": {
       "model_id": "9e838aa63912427babd79fcf25838543",
       "version_major": 2,
       "version_minor": 0
      },
      "text/plain": [
       "Downloading:   0%|          | 0.00/456k [00:00<?, ?B/s]"
      ]
     },
     "metadata": {},
     "output_type": "display_data"
    },
    {
     "data": {
      "application/vnd.jupyter.widget-view+json": {
       "model_id": "c290b783e277483ea4ca3a26d945687e",
       "version_major": 2,
       "version_minor": 0
      },
      "text/plain": [
       "Downloading:   0%|          | 0.00/1.36M [00:00<?, ?B/s]"
      ]
     },
     "metadata": {},
     "output_type": "display_data"
    },
    {
     "data": {
      "text/plain": [
       "[{'label': 'NEUTRAL', 'score': 0.5946243405342102},\n",
       " {'label': 'NEUTRAL', 'score': 0.5987721085548401},\n",
       " {'label': 'NEUTRAL', 'score': 0.5097081065177917},\n",
       " {'label': 'NEUTRAL', 'score': 0.5106845498085022},\n",
       " {'label': 'NEUTRAL', 'score': 0.6111459136009216},\n",
       " {'label': 'NEUTRAL', 'score': 0.643545925617218},\n",
       " {'label': 'ENTAILMENT', 'score': 0.5505037903785706},\n",
       " {'label': 'NEUTRAL', 'score': 0.7519887685775757}]"
      ]
     },
     "execution_count": 10,
     "metadata": {},
     "output_type": "execute_result"
    }
   ],
   "source": [
    "#Using Reoberta Model from Transformers \n",
    "model2 = pipeline(model=\"roberta-large-mnli\")\n",
    "model2(Data)"
   ]
  },
  {
   "cell_type": "code",
   "execution_count": null,
   "id": "7b038655",
   "metadata": {},
   "outputs": [],
   "source": []
  }
 ],
 "metadata": {
  "kernelspec": {
   "display_name": "Python 3",
   "language": "python",
   "name": "python3"
  },
  "language_info": {
   "codemirror_mode": {
    "name": "ipython",
    "version": 3
   },
   "file_extension": ".py",
   "mimetype": "text/x-python",
   "name": "python",
   "nbconvert_exporter": "python",
   "pygments_lexer": "ipython3",
   "version": "3.8.8"
  }
 },
 "nbformat": 4,
 "nbformat_minor": 5
}
